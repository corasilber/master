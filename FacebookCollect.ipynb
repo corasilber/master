{
 "cells": [
  {
   "cell_type": "code",
   "execution_count": 1,
   "metadata": {},
   "outputs": [],
   "source": [
    "import pandas as pd"
   ]
  },
  {
   "cell_type": "markdown",
   "metadata": {},
   "source": [
    "# Project\n",
    "- I plan on collect comments from facebook public posts to make a sentiment analysis over it. </br>\n",
    "- The posts were collect from Crowdtangle where it contains pages and groups that shared a fake news link in the social media. </br>\n",
    "- The project objective is for my Master's Thesis and to help the community to understand about people's behaviours who believes and comments in fake news\n",
    "- I'm a Master student from UFMG (Federal University of Minas Gerais)\n",
    "- You can check my linkedin page: https://www.linkedin.com/in/cora-silberschneider/"
   ]
  },
  {
   "cell_type": "code",
   "execution_count": 2,
   "metadata": {},
   "outputs": [],
   "source": [
    "# df = pd.read_csv('postUrl.csv')"
   ]
  }
 ],
 "metadata": {
  "kernelspec": {
   "display_name": "Python 3",
   "language": "python",
   "name": "python3"
  },
  "language_info": {
   "codemirror_mode": {
    "name": "ipython",
    "version": 3
   },
   "file_extension": ".py",
   "mimetype": "text/x-python",
   "name": "python",
   "nbconvert_exporter": "python",
   "pygments_lexer": "ipython3",
   "version": "3.8.5"
  }
 },
 "nbformat": 4,
 "nbformat_minor": 4
}
